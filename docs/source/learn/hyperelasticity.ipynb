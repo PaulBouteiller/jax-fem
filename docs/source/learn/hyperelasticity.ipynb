{
 "cells": [
  {
   "cell_type": "markdown",
   "id": "c6f8f254-f2f3-4b4e-a101-df8a3d95375b",
   "metadata": {},
   "source": [
    "# Hyperelasticity\n"
   ]
  },
  {
   "cell_type": "markdown",
   "id": "1acd235f",
   "metadata": {},
   "source": [
    "## Problem definition"
   ]
  },
  {
   "cell_type": "markdown",
   "id": "45927e24",
   "metadata": {},
   "source": [
    "Hyperelastic materials, such as elastomers and biological soft tissues, demonstrate characteristic nonlinear stress-strain behavior governed by strain energy density functions under finite deformations. This example demostrate how to solve the boundary value problem (BVP) of Neo-Hookean hyperelasticity using `jax_fem`, with particular focus on the finite deformation regime induced by prescribed displacement constraints."
   ]
  },
  {
   "cell_type": "markdown",
   "id": "8a43fbbe",
   "metadata": {},
   "source": [
    "The governing equations for the BVP of hyperelastic materials can be expressed as:\n",
    "$$\n",
    "\\begin{aligned}\n",
    "- \\nabla \\cdot \\boldsymbol{P} &= \\boldsymbol{b} &&\\text{in } \\Omega, \\\\\n",
    "\\boldsymbol{u} &= \\boldsymbol{u}_D &&\\text{on } \\Gamma_D, \\\\\n",
    "\\boldsymbol{P} \\cdot \\boldsymbol{n} &= \\boldsymbol{t} &&\\text{on } \\Gamma_N.\n",
    "\\end{aligned}\n",
    "$$\n",
    "where the computational domain is a unit cube: $\\Omega = (0,1) \\times (0,1) \\times (0,1)$. A fixed displacement boundary condition $u_{D_1} = 0$ is applied on the right surface $\\Gamma_{D_1}$ ($x = 1$), while a prescribed displacement field is imposed on the left surface $\\Gamma_{D_2}$ ($x = 0$), which is defined as follows:\n",
    "$$\n",
    "u_{D_2} = \\left[\n",
    "\\begin{array}{c}\n",
    "0 \\\\\n",
    "\\dfrac{0.5 + (x_2 - 0.5)\\cos\\left(\\frac{\\pi}{3}\\right) - (x_3 - 0.5)\\sin\\left(\\frac{\\pi}{3}\\right) - x_2}{2} \\\\\n",
    "\\dfrac{0.5 + (x_2 - 0.5)\\sin\\left(\\frac{\\pi}{3}\\right) + (x_3 - 0.5)\\cos\\left(\\frac{\\pi}{3}\\right) - x_3}{2}\n",
    "\\end{array}\n",
    "\\right]\n",
    "$$\n",
    "The traction in the Neumann boundary condition is specified as $\\boldsymbol{t} = \\begin{bmatrix}0 & 0 & 0\\end{bmatrix}^{\\textrm{T}}$, and the body force on the right-hand side of the governing equation is defined as $\\boldsymbol{b} = \\begin{bmatrix}0 & 0 & 0\\end{bmatrix}^{\\textrm{T}}$."
   ]
  },
  {
   "cell_type": "markdown",
   "id": "2e30f962",
   "metadata": {},
   "source": [
    "To define the BVP to be solved, we need to derive the weak form. We multiply the momentum equation $- \\nabla \\cdot \\boldsymbol{P} = \\boldsymbol{b}$ by a test function $\\boldsymbol{v} \\in \\mathcal{V}_0$ (where $\\mathcal{V}_0 = \\{\\boldsymbol{v} \\in H^1(\\Omega) | \\boldsymbol{v} = \\boldsymbol{0} \\text{ on } \\Gamma_D\\}$) and integrate over the domain:"
   ]
  },
  {
   "cell_type": "markdown",
   "id": "098ccd29",
   "metadata": {},
   "source": [
    "$$\n",
    "-\\int_\\Omega (\\nabla \\cdot \\boldsymbol{P}) \\cdot \\boldsymbol{v} \\, dV = \\int_\\Omega \\boldsymbol{b} \\cdot \\boldsymbol{v} \\, dV\n",
    "$$\n"
   ]
  },
  {
   "cell_type": "markdown",
   "id": "6afa6d98",
   "metadata": {},
   "source": [
    "then，we can obtain the following formulation by applying the divergence theorem:"
   ]
  },
  {
   "cell_type": "markdown",
   "id": "11da9d19",
   "metadata": {},
   "source": [
    "$$\n",
    "\\int_\\Omega \\boldsymbol{P} : \\nabla \\boldsymbol{v} \\, dV \n",
    "- \\int_{\\partial \\Omega} (\\boldsymbol{P} \\boldsymbol{n}) \\cdot \\boldsymbol{v} \\, dS \n",
    "= \\int_\\Omega \\boldsymbol{b} \\cdot \\boldsymbol{v} \\, dV\n",
    "$$\n"
   ]
  },
  {
   "cell_type": "markdown",
   "id": "a8f5c629",
   "metadata": {},
   "source": [
    "We can use the defined boudnary conditions to simplify the weak form:"
   ]
  },
  {
   "cell_type": "markdown",
   "id": "f0d1abc7",
   "metadata": {},
   "source": [
    "$$\n",
    "\\int_\\Omega \\boldsymbol{P}(\\nabla\\boldsymbol{u}):\\nabla\\boldsymbol{v} \\, dV = \\int_\\Omega \\boldsymbol{b} \\cdot \\boldsymbol{v} \\, dV + \\int_{\\Gamma_N} \\boldsymbol{t} \\cdot \\boldsymbol{v} \\, dS \\quad \\forall \\boldsymbol{v} \\in \\mathcal{V}_0$$"
   ]
  },
  {
   "cell_type": "markdown",
   "id": "9c3d0846",
   "metadata": {},
   "source": [
    "The first Piola-Kirchhoff stress $\\boldsymbol{P}$ is given by:"
   ]
  },
  {
   "cell_type": "markdown",
   "id": "102e8e6c",
   "metadata": {},
   "source": [
    "$$\\boldsymbol{P} = \\frac{\\partial W}{\\partial \\boldsymbol{F}}$$"
   ]
  },
  {
   "cell_type": "markdown",
   "id": "5d9f7b7b",
   "metadata": {},
   "source": [
    "where $\\boldsymbol{F}$ is the deformation gradient given by: \n",
    " \n"
   ]
  },
  {
   "cell_type": "markdown",
   "id": "d6899fab",
   "metadata": {},
   "source": [
    "$$\\boldsymbol{F} = \\nabla \\boldsymbol{u} + \\boldsymbol{I}$$"
   ]
  },
  {
   "cell_type": "markdown",
   "id": "cde05d53",
   "metadata": {},
   "source": [
    "The strain energy density function $W(\\boldsymbol{F})$ for the [Neo-Hookean material](https://en.wikipedia.org/wiki/Neo-Hookean_solid) can be expressed as:"
   ]
  },
  {
   "cell_type": "markdown",
   "id": "b9949e19",
   "metadata": {},
   "source": [
    "$$W(F) = \\frac{G}{2}(J^{-2/3}I_1 - 3) + \\frac{K}{2}(J - 1)^2$$"
   ]
  },
  {
   "cell_type": "markdown",
   "id": "aa6e3396",
   "metadata": {},
   "source": [
    "## Implementation"
   ]
  },
  {
   "cell_type": "markdown",
   "id": "a7f61a9a",
   "metadata": {},
   "source": [
    "First, we need to import some useful modules and `jax_fem` specific modules："
   ]
  },
  {
   "cell_type": "code",
   "execution_count": null,
   "id": "42ed8d77",
   "metadata": {},
   "outputs": [],
   "source": [
    "# Import General modules .\n",
    "import jax\n",
    "import jax.numpy as np\n",
    "import os\n",
    "# Import `jax_fem` specific modules.\n",
    "from jax_fem.problem import Problem\n",
    "from jax_fem.solver import solver\n",
    "from jax_fem.utils import save_sol\n",
    "from jax_fem.generate_mesh import box_mesh_gmsh, get_meshio_cell_type, Mesh"
   ]
  },
  {
   "cell_type": "markdown",
   "id": "fbefc7a6",
   "metadata": {},
   "source": [
    "### Weak form"
   ]
  },
  {
   "cell_type": "markdown",
   "id": "c87b3895",
   "metadata": {},
   "source": [
    "In this example, we use the **Laplace Kernel** to implement hyperelastic constitutive relations by overriding the `get_tensor_map` method to define hyperelastic material response, where the `get_tensor_map` function defines the core mapping:\n",
    "\n",
    "$$\\text{tensor map}: \\nabla \\boldsymbol{u} \\rightarrow \\boldsymbol{P} = \\frac{\\partial W(\\boldsymbol{F})}{\\partial \\boldsymbol{F}}\\bigg|_{\\boldsymbol{F}=\\nabla \\boldsymbol{u} + \\boldsymbol{I}}$$\n",
    "\n",
    "The implementation strategy involves: defining the strain energy density function `psi(F)` representing $W(\\boldsymbol{F})$, then using `jax.grad(psi)` to compute the first Piola-Kirchhoff stress tensor. The Laplace Kernel calls this mapping to convert displacement gradients into stress tensors and computes the volume integral $\\int_\\Omega \\boldsymbol{P} : \\nabla \\boldsymbol{v} \\, d\\Omega$. \n",
    "\n",
    "This process completely avoids manual derivation of complex stress expressions. Users only need to define the mathematical expression of physical laws (strain energy function), while automatic differentiation (AD) technique in `jax` automatically handles all complex tensor differential operations, including computation of the first Piola-Kirchhoff stress tensor $\\boldsymbol{P}$ and tangent stiffness matrix generation. This not only eliminates the risk of errors in complex tensor derivations but also makes constitutive model implementation as intuitive as writing mathematical formulas."
   ]
  },
  {
   "cell_type": "code",
   "execution_count": null,
   "id": "3c2492f7",
   "metadata": {},
   "outputs": [],
   "source": [
    "class HyperElasticity(Problem):\n",
    "    # The function 'get_tensor_map' overrides base class method. Generally, `jax_fem` \n",
    "    # solves -div(f(u_grad)) = b. Here, we define f(u_grad) = P. Notice how we first \n",
    "    # define 'psi' (representing W), and then use automatic differentiation (jax.grad) \n",
    "    # to obtain the 'P_fn' function.\n",
    "    def get_tensor_map(self):\n",
    "\n",
    "        def psi(F):\n",
    "            E = 10.\n",
    "            nu = 0.3\n",
    "            mu = E / (2. * (1. + nu))\n",
    "            kappa = E / (3. * (1. - 2. * nu))\n",
    "            J = np.linalg.det(F)\n",
    "            Jinv = J**(-2. / 3.)\n",
    "            I1 = np.trace(F.T @ F)\n",
    "            energy = (mu / 2.) * (Jinv * I1 - 3.) + (kappa / 2.) * (J - 1.)**2.\n",
    "            return energy\n",
    "\n",
    "        P_fn = jax.grad(psi)\n",
    "\n",
    "        def first_PK_stress(u_grad):\n",
    "            I = np.eye(self.dim)\n",
    "            F = u_grad + I\n",
    "            P = P_fn(F)\n",
    "            return P\n",
    "\n",
    "        return first_PK_stress"
   ]
  },
  {
   "cell_type": "markdown",
   "id": "eb01bbfd",
   "metadata": {},
   "source": [
    "### Mesh"
   ]
  },
  {
   "cell_type": "markdown",
   "id": "03026d48",
   "metadata": {},
   "source": [
    "Here we use the first-order hexahedron element `HEX8` to discretize the computational domain:"
   ]
  },
  {
   "cell_type": "code",
   "execution_count": null,
   "id": "6bfd7b43",
   "metadata": {},
   "outputs": [],
   "source": [
    "# Specify mesh-related information (first-order hexahedron element).\n",
    "ele_type = 'HEX8'\n",
    "cell_type = get_meshio_cell_type(ele_type)\n",
    "Lx, Ly, Lz = 1., 1., 1.\n",
    "data_dir = os.path.join(os.path.dirname(__file__), 'data')\n",
    "meshio_mesh = box_mesh_gmsh(Nx=20,\n",
    "                       Ny=20,\n",
    "                       Nz=20,\n",
    "                       Lx=Lx,\n",
    "                       Ly=Ly,\n",
    "                       Lz=Lz,\n",
    "                       data_dir=data_dir,\n",
    "                       ele_type=ele_type)\n",
    "mesh = Mesh(meshio_mesh.points, meshio_mesh.cells_dict[cell_type])"
   ]
  },
  {
   "cell_type": "markdown",
   "id": "3e3397c9",
   "metadata": {},
   "source": [
    "### Boundary conditions"
   ]
  },
  {
   "cell_type": "markdown",
   "id": "278a191e",
   "metadata": {},
   "source": [
    "In this example, the Neumann boundary condition corresponds to a traction of zero and is therefore not explicitly specified. The code below demonstrates the three steps for applying Dirichlet boundary conditions in `jax_fem`:"
   ]
  },
  {
   "cell_type": "code",
   "execution_count": null,
   "id": "db3944a0",
   "metadata": {},
   "outputs": [],
   "source": [
    "# Define boundary locations.\n",
    "def left(point):\n",
    "    return np.isclose(point[0], 0., atol=1e-5)\n",
    "\n",
    "def right(point):\n",
    "    return np.isclose(point[0], Lx, atol=1e-5)\n",
    "\n",
    "# Define Dirichlet boundary values.\n",
    "def zero_dirichlet_val(point):\n",
    "    return 0.\n",
    "\n",
    "def dirichlet_val_x2(point):\n",
    "    return (0.5 + (point[1] - 0.5) * np.cos(np.pi / 3.) -\n",
    "            (point[2] - 0.5) * np.sin(np.pi / 3.) - point[1]) / 2.\n",
    "\n",
    "def dirichlet_val_x3(point):\n",
    "    return (0.5 + (point[1] - 0.5) * np.sin(np.pi / 3.) +\n",
    "            (point[2] - 0.5) * np.cos(np.pi / 3.) - point[2]) / 2.\n",
    "\n",
    "# [location_fns, vec, value_fns]\n",
    "location_fns = [left] * 3 + [right] * 3  \n",
    "vec = [0, 1, 2] * 2                      \n",
    "value_fns = [zero_dirichlet_val, dirichlet_val_x2, dirichlet_val_x3] + \\\n",
    "            [zero_dirichlet_val] * 3     \n",
    "\n",
    "dirichlet_bc_info = [location_fns, vec, value_fns]"
   ]
  },
  {
   "cell_type": "markdown",
   "id": "235b9228",
   "metadata": {},
   "source": [
    "### Problem"
   ]
  },
  {
   "cell_type": "markdown",
   "id": "a43894e3",
   "metadata": {},
   "source": [
    "We have completed all the preliminary preparations for the problem. Then we can proceed to create an instance of our BVP:"
   ]
  },
  {
   "cell_type": "code",
   "execution_count": null,
   "id": "de1c5390",
   "metadata": {},
   "outputs": [],
   "source": [
    "# Create an instance of the problem.\n",
    "problem = HyperElasticity(mesh,\n",
    "                          vec=3,\n",
    "                          dim=3,\n",
    "                          ele_type=ele_type,\n",
    "                          dirichlet_bc_info=dirichlet_bc_info)"
   ]
  },
  {
   "cell_type": "markdown",
   "id": "2f4fcdd2",
   "metadata": {},
   "source": [
    "### Solver"
   ]
  },
  {
   "cell_type": "markdown",
   "id": "e7adb0cc",
   "metadata": {},
   "source": [
    "The defined problem is passed to `solver` to solve the defined BVP. Here, we employ the Newton-Raphson method, specifically defined in `jax_fem.solver`. The solver iteratively solves the nonlinear equation system $\\boldsymbol{R}(\\boldsymbol{u}) = \\boldsymbol{0}$, comprising four main steps:\n",
    "\n",
    "1. Residual calculation: Call `problem.newton_update()` to compute the residual vector of the current solution\n",
    "\n",
    "2. Linear solve: Solve the linear system $\\boldsymbol{J} \\Delta \\boldsymbol{u} = -\\boldsymbol{R}$ through `linear_incremental_solver`\n",
    "\n",
    "3. Solution update: $\\boldsymbol{u}^{(k+1)} = \\boldsymbol{u}^{(k)} + \\Delta \\boldsymbol{u}$\n",
    "\n",
    "4. Convergence check: Verify $\\|\\boldsymbol{R}(\\boldsymbol{u}^{(k+1)})\\|_2 < \\text{tol}$ and relative error criteria\n",
    "\n",
    "Leveraging the automatic differentiation technique in `jax`, the Jacobian matrices $\\boldsymbol{J}$ can be automatically computed. For boundary condition treatment, the **row elimination** method is adopted to impose Dirichlet boundary conditions by modifying corresponding rows of the stiffness matrix and residual vector to enforce boundary constraints. Here, we choose the `PETSc` solver to solve the involved linear system:"
   ]
  },
  {
   "cell_type": "code",
   "execution_count": null,
   "id": "b6adc01f",
   "metadata": {},
   "outputs": [],
   "source": [
    "# Solve the defined problem.    \n",
    "sol_list = solver(problem, solver_options={'petsc_solver': {}})"
   ]
  },
  {
   "cell_type": "markdown",
   "id": "a920febf",
   "metadata": {},
   "source": [
    "### Postprocessing"
   ]
  },
  {
   "cell_type": "markdown",
   "id": "71b3316e",
   "metadata": {},
   "source": [
    "The solution can be exported to VTK format files (readable by ParaView and other post-processing software) using `jax_fem`'s built-in function `save_sol`:"
   ]
  },
  {
   "cell_type": "code",
   "execution_count": null,
   "id": "b76ed4b9",
   "metadata": {},
   "outputs": [],
   "source": [
    "vtk_path = os.path.join(data_dir, f'vtk/u.vtu')\n",
    "save_sol(problem.fes[0], sol_list[0], vtk_path)"
   ]
  },
  {
   "cell_type": "markdown",
   "id": "1fffb1f1",
   "metadata": {},
   "source": [
    "<center>\n",
    "  <img src=\"../_static/images/hyperelasticity.png\" width=\"400\" />\n",
    "  <p><em>Solution to the hyperelasticity example.</em></p>\n",
    "</center>"
   ]
  },
  {
   "cell_type": "markdown",
   "id": "5a4591cf",
   "metadata": {},
   "source": [
    "## References"
   ]
  },
  {
   "cell_type": "markdown",
   "id": "5189d8ca",
   "metadata": {},
   "source": [
    "1. https://olddocs.fenicsproject.org/dolfin/1.5.0/python/demo/documented/hyperelasticity/python/documentation.html\n",
    "   \n",
    "2. https://en.wikipedia.org/wiki/Neo-Hookean_solid"
   ]
  }
 ],
 "metadata": {
  "kernelspec": {
   "display_name": "`jax_fem`-env",
   "language": "python",
   "name": "python3"
  },
  "language_info": {
   "codemirror_mode": {
    "name": "ipython",
    "version": 3
   },
   "file_extension": ".py",
   "mimetype": "text/x-python",
   "name": "python",
   "nbconvert_exporter": "python",
   "pygments_lexer": "ipython3",
   "version": "3.9.18"
  }
 },
 "nbformat": 4,
 "nbformat_minor": 5
}
